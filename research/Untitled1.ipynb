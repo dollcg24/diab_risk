{
 "cells": [
  {
   "cell_type": "code",
   "execution_count": 1,
   "metadata": {},
   "outputs": [],
   "source": [
    "#data preprocessing\n",
    "import pandas as pd"
   ]
  },
  {
   "cell_type": "code",
   "execution_count": 4,
   "metadata": {},
   "outputs": [],
   "source": [
    "# Read data and drop redundant column.\n",
    "data = pd.read_csv('https://raw.githubusercontent.com/dollcg24/diabetes_dataset/master/data.csv')\n"
   ]
  },
  {
   "cell_type": "code",
   "execution_count": 5,
   "metadata": {},
   "outputs": [],
   "source": [
    "from sklearn import preprocessing\n",
    "#diab = pd.read_csv(\"diabrisk.csv\")\n",
    "preprocess = preprocessing.LabelEncoder()\n",
    "data['gender'] = preprocess.fit_transform(data['gender'])\n",
    "data['age'] = preprocess.fit_transform(data['age'])\n",
    "data['bmi'] = preprocess.fit_transform(data['bmi'])\n",
    "data['heredity']= preprocess.fit_transform(data['heredity'])\n",
    "data['calorie'] = preprocess.fit_transform(data['calorie'])\n",
    "data['sleep'] = preprocess.fit_transform(data['sleep'])\n",
    "data['bp'] = preprocess.fit_transform(data['bp'])\n",
    "data['smoke'] = preprocess.fit_transform(data['smoke'])\n",
    "data['alcohol'] = preprocess.fit_transform(data['alcohol'])\n",
    "data['mental'] = preprocess.fit_transform(data['mental'])\n",
    "data['physical'] = preprocess.fit_transform(data['physical'])\n",
    "data['skin'] = preprocess.fit_transform(data['skin'])\n",
    "data['pcos'] = preprocess.fit_transform(data['pcos'])\n",
    "data['risk'] = preprocess.fit_transform(data['risk'])\n"
   ]
  },
  {
   "cell_type": "code",
   "execution_count": 6,
   "metadata": {},
   "outputs": [],
   "source": [
    "feature_columns = ['gender','age','bmi','heredity','calorie','sleep','bp','smoke','alcohol','mental','physical','skin','pcos']\n",
    "predicted_class = ['risk']\n",
    "X = data[feature_columns].values\n",
    "y = data[predicted_class].values"
   ]
  },
  {
   "cell_type": "code",
   "execution_count": 7,
   "metadata": {},
   "outputs": [],
   "source": [
    "from sklearn.model_selection import train_test_split\n",
    "X_train, X_test, y_train, y_test = train_test_split(X, y, test_size = 0.30, random_state=10)"
   ]
  },
  {
   "cell_type": "code",
   "execution_count": 9,
   "metadata": {},
   "outputs": [],
   "source": [
    "from sklearn.ensemble import RandomForestClassifier\n",
    "from sklearn.metrics import accuracy_score\n",
    "# Create the model with 180 trees\n",
    "#model is object of classifier\n",
    "model = RandomForestClassifier(n_estimators=180, random_state=10)\n",
    "model.fit(X_train,y_train.ravel())\n",
    "random_pred=model.predict(X_test)\n",
    "#print(\"Random forest : \",accuracy_score(y_test,random_pred, normalize = True))"
   ]
  },
  {
   "cell_type": "code",
   "execution_count": 10,
   "metadata": {},
   "outputs": [],
   "source": [
    "try:\n",
    "    import dill as pickle\n",
    "except ImportError:\n",
    "    import pickle"
   ]
  },
  {
   "cell_type": "code",
   "execution_count": 11,
   "metadata": {},
   "outputs": [],
   "source": [
    "filename = 'finalized_model.p'\n",
    "pickl = {\n",
    "    'model': model\n",
    "}\n",
    "#pickle.dump( pickl, open( 'finalized_model' + \".p\", \"wb\" ) )\n",
    "pickle.dump(model, open(filename, 'wb'))"
   ]
  },
  {
   "cell_type": "code",
   "execution_count": null,
   "metadata": {},
   "outputs": [],
   "source": []
  }
 ],
 "metadata": {
  "kernelspec": {
   "display_name": "Python 3",
   "language": "python",
   "name": "python3"
  },
  "language_info": {
   "codemirror_mode": {
    "name": "ipython",
    "version": 3
   },
   "file_extension": ".py",
   "mimetype": "text/x-python",
   "name": "python",
   "nbconvert_exporter": "python",
   "pygments_lexer": "ipython3",
   "version": "3.7.3"
  }
 },
 "nbformat": 4,
 "nbformat_minor": 2
}
