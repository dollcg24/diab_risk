{
 "cells": [
  {
   "cell_type": "code",
   "execution_count": 1,
   "metadata": {},
   "outputs": [],
   "source": [
    "#data preprocessing\n",
    "import pandas as pd"
   ]
  },
  {
   "cell_type": "code",
   "execution_count": 2,
   "metadata": {},
   "outputs": [
    {
     "data": {
      "text/html": [
       "<div>\n",
       "<style scoped>\n",
       "    .dataframe tbody tr th:only-of-type {\n",
       "        vertical-align: middle;\n",
       "    }\n",
       "\n",
       "    .dataframe tbody tr th {\n",
       "        vertical-align: top;\n",
       "    }\n",
       "\n",
       "    .dataframe thead th {\n",
       "        text-align: right;\n",
       "    }\n",
       "</style>\n",
       "<table border=\"1\" class=\"dataframe\">\n",
       "  <thead>\n",
       "    <tr style=\"text-align: right;\">\n",
       "      <th></th>\n",
       "      <th>gender</th>\n",
       "      <th>age</th>\n",
       "      <th>bmi</th>\n",
       "      <th>heredity</th>\n",
       "      <th>calorie</th>\n",
       "      <th>sleep</th>\n",
       "      <th>bp</th>\n",
       "      <th>smoke</th>\n",
       "      <th>alcohol</th>\n",
       "      <th>mental</th>\n",
       "      <th>physical</th>\n",
       "      <th>skin</th>\n",
       "      <th>pcos</th>\n",
       "      <th>risk</th>\n",
       "    </tr>\n",
       "  </thead>\n",
       "  <tbody>\n",
       "    <tr>\n",
       "      <td>0</td>\n",
       "      <td>f</td>\n",
       "      <td>B</td>\n",
       "      <td>overweight</td>\n",
       "      <td>y</td>\n",
       "      <td>y</td>\n",
       "      <td>regular</td>\n",
       "      <td>normal</td>\n",
       "      <td>y</td>\n",
       "      <td>y</td>\n",
       "      <td>y</td>\n",
       "      <td>n</td>\n",
       "      <td>y</td>\n",
       "      <td>y</td>\n",
       "      <td>h</td>\n",
       "    </tr>\n",
       "    <tr>\n",
       "      <td>1</td>\n",
       "      <td>m</td>\n",
       "      <td>B</td>\n",
       "      <td>normal</td>\n",
       "      <td>y</td>\n",
       "      <td>n</td>\n",
       "      <td>irregular</td>\n",
       "      <td>normal</td>\n",
       "      <td>y</td>\n",
       "      <td>y</td>\n",
       "      <td>n</td>\n",
       "      <td>n</td>\n",
       "      <td>n</td>\n",
       "      <td>n</td>\n",
       "      <td>m</td>\n",
       "    </tr>\n",
       "    <tr>\n",
       "      <td>2</td>\n",
       "      <td>f</td>\n",
       "      <td>B</td>\n",
       "      <td>normal</td>\n",
       "      <td>n</td>\n",
       "      <td>n</td>\n",
       "      <td>regular</td>\n",
       "      <td>high</td>\n",
       "      <td>n</td>\n",
       "      <td>n</td>\n",
       "      <td>n</td>\n",
       "      <td>y</td>\n",
       "      <td>n</td>\n",
       "      <td>n</td>\n",
       "      <td>l</td>\n",
       "    </tr>\n",
       "    <tr>\n",
       "      <td>3</td>\n",
       "      <td>f</td>\n",
       "      <td>C</td>\n",
       "      <td>normal</td>\n",
       "      <td>y</td>\n",
       "      <td>n</td>\n",
       "      <td>regular</td>\n",
       "      <td>normal</td>\n",
       "      <td>y</td>\n",
       "      <td>y</td>\n",
       "      <td>y</td>\n",
       "      <td>n</td>\n",
       "      <td>n</td>\n",
       "      <td>n</td>\n",
       "      <td>m</td>\n",
       "    </tr>\n",
       "    <tr>\n",
       "      <td>4</td>\n",
       "      <td>m</td>\n",
       "      <td>B</td>\n",
       "      <td>normal</td>\n",
       "      <td>n</td>\n",
       "      <td>n</td>\n",
       "      <td>regular</td>\n",
       "      <td>low</td>\n",
       "      <td>n</td>\n",
       "      <td>y</td>\n",
       "      <td>n</td>\n",
       "      <td>y</td>\n",
       "      <td>n</td>\n",
       "      <td>n</td>\n",
       "      <td>l</td>\n",
       "    </tr>\n",
       "  </tbody>\n",
       "</table>\n",
       "</div>"
      ],
      "text/plain": [
       "  gender age         bmi heredity calorie      sleep      bp smoke alcohol  \\\n",
       "0      f   B  overweight        y       y    regular  normal     y       y   \n",
       "1      m   B      normal        y       n  irregular  normal     y       y   \n",
       "2      f   B      normal        n       n    regular    high     n       n   \n",
       "3      f   C      normal        y       n    regular  normal     y       y   \n",
       "4      m   B      normal        n       n    regular     low     n       y   \n",
       "\n",
       "  mental physical skin pcos risk  \n",
       "0      y        n    y    y    h  \n",
       "1      n        n    n    n    m  \n",
       "2      n        y    n    n    l  \n",
       "3      y        n    n    n    m  \n",
       "4      n        y    n    n    l  "
      ]
     },
     "metadata": {},
     "output_type": "display_data"
    }
   ],
   "source": [
    "# Read data and drop redundant column.\n",
    "data = pd.read_csv('https://raw.githubusercontent.com/dollcg24/diabetes_dataset/master/data.csv')\n",
    "\n",
    "# Preview data.\n",
    "display(data.head(5))"
   ]
  },
  {
   "cell_type": "code",
   "execution_count": 4,
   "metadata": {},
   "outputs": [],
   "source": [
    "from sklearn import preprocessing"
   ]
  },
  {
   "cell_type": "code",
   "execution_count": 5,
   "metadata": {},
   "outputs": [],
   "source": [
    "# create the Labelencoder object\n",
    "le = preprocessing.LabelEncoder()"
   ]
  },
  {
   "cell_type": "code",
   "execution_count": 6,
   "metadata": {},
   "outputs": [
    {
     "data": {
      "text/html": [
       "<div>\n",
       "<style scoped>\n",
       "    .dataframe tbody tr th:only-of-type {\n",
       "        vertical-align: middle;\n",
       "    }\n",
       "\n",
       "    .dataframe tbody tr th {\n",
       "        vertical-align: top;\n",
       "    }\n",
       "\n",
       "    .dataframe thead th {\n",
       "        text-align: right;\n",
       "    }\n",
       "</style>\n",
       "<table border=\"1\" class=\"dataframe\">\n",
       "  <thead>\n",
       "    <tr style=\"text-align: right;\">\n",
       "      <th></th>\n",
       "      <th>gender</th>\n",
       "      <th>age</th>\n",
       "      <th>bmi</th>\n",
       "      <th>heredity</th>\n",
       "      <th>calorie</th>\n",
       "      <th>sleep</th>\n",
       "      <th>bp</th>\n",
       "      <th>smoke</th>\n",
       "      <th>alcohol</th>\n",
       "      <th>mental</th>\n",
       "      <th>physical</th>\n",
       "      <th>skin</th>\n",
       "      <th>pcos</th>\n",
       "      <th>risk</th>\n",
       "    </tr>\n",
       "  </thead>\n",
       "  <tbody>\n",
       "    <tr>\n",
       "      <td>0</td>\n",
       "      <td>0</td>\n",
       "      <td>2</td>\n",
       "      <td>2</td>\n",
       "      <td>2</td>\n",
       "      <td>3</td>\n",
       "      <td>1</td>\n",
       "      <td>3</td>\n",
       "      <td>1</td>\n",
       "      <td>2</td>\n",
       "      <td>1</td>\n",
       "      <td>1</td>\n",
       "      <td>4</td>\n",
       "      <td>3</td>\n",
       "      <td>0</td>\n",
       "    </tr>\n",
       "    <tr>\n",
       "      <td>1</td>\n",
       "      <td>2</td>\n",
       "      <td>2</td>\n",
       "      <td>0</td>\n",
       "      <td>2</td>\n",
       "      <td>2</td>\n",
       "      <td>0</td>\n",
       "      <td>3</td>\n",
       "      <td>1</td>\n",
       "      <td>2</td>\n",
       "      <td>0</td>\n",
       "      <td>1</td>\n",
       "      <td>2</td>\n",
       "      <td>1</td>\n",
       "      <td>2</td>\n",
       "    </tr>\n",
       "    <tr>\n",
       "      <td>2</td>\n",
       "      <td>0</td>\n",
       "      <td>2</td>\n",
       "      <td>0</td>\n",
       "      <td>0</td>\n",
       "      <td>2</td>\n",
       "      <td>1</td>\n",
       "      <td>0</td>\n",
       "      <td>0</td>\n",
       "      <td>0</td>\n",
       "      <td>0</td>\n",
       "      <td>3</td>\n",
       "      <td>2</td>\n",
       "      <td>1</td>\n",
       "      <td>1</td>\n",
       "    </tr>\n",
       "    <tr>\n",
       "      <td>3</td>\n",
       "      <td>0</td>\n",
       "      <td>4</td>\n",
       "      <td>0</td>\n",
       "      <td>2</td>\n",
       "      <td>2</td>\n",
       "      <td>1</td>\n",
       "      <td>3</td>\n",
       "      <td>1</td>\n",
       "      <td>2</td>\n",
       "      <td>1</td>\n",
       "      <td>1</td>\n",
       "      <td>2</td>\n",
       "      <td>1</td>\n",
       "      <td>2</td>\n",
       "    </tr>\n",
       "    <tr>\n",
       "      <td>4</td>\n",
       "      <td>2</td>\n",
       "      <td>2</td>\n",
       "      <td>0</td>\n",
       "      <td>0</td>\n",
       "      <td>2</td>\n",
       "      <td>1</td>\n",
       "      <td>2</td>\n",
       "      <td>0</td>\n",
       "      <td>2</td>\n",
       "      <td>0</td>\n",
       "      <td>3</td>\n",
       "      <td>2</td>\n",
       "      <td>1</td>\n",
       "      <td>1</td>\n",
       "    </tr>\n",
       "  </tbody>\n",
       "</table>\n",
       "</div>"
      ],
      "text/plain": [
       "   gender  age  bmi  heredity  calorie  sleep  bp  smoke  alcohol  mental  \\\n",
       "0       0    2    2         2        3      1   3      1        2       1   \n",
       "1       2    2    0         2        2      0   3      1        2       0   \n",
       "2       0    2    0         0        2      1   0      0        0       0   \n",
       "3       0    4    0         2        2      1   3      1        2       1   \n",
       "4       2    2    0         0        2      1   2      0        2       0   \n",
       "\n",
       "   physical  skin  pcos  risk  \n",
       "0         1     4     3     0  \n",
       "1         1     2     1     2  \n",
       "2         3     2     1     1  \n",
       "3         1     2     1     2  \n",
       "4         3     2     1     1  "
      ]
     },
     "execution_count": 6,
     "metadata": {},
     "output_type": "execute_result"
    }
   ],
   "source": [
    "from sklearn import preprocessing\n",
    "#diab = pd.read_csv(\"diabrisk.csv\")\n",
    "preprocess = preprocessing.LabelEncoder()\n",
    "data['gender'] = preprocess.fit_transform(data['gender'])\n",
    "data['age'] = preprocess.fit_transform(data['age'])\n",
    "data['bmi'] = preprocess.fit_transform(data['bmi'])\n",
    "data['heredity']= preprocess.fit_transform(data['heredity'])\n",
    "data['calorie'] = preprocess.fit_transform(data['calorie'])\n",
    "data['sleep'] = preprocess.fit_transform(data['sleep'])\n",
    "data['bp'] = preprocess.fit_transform(data['bp'])\n",
    "data['smoke'] = preprocess.fit_transform(data['smoke'])\n",
    "data['alcohol'] = preprocess.fit_transform(data['alcohol'])\n",
    "data['mental'] = preprocess.fit_transform(data['mental'])\n",
    "data['physical'] = preprocess.fit_transform(data['physical'])\n",
    "data['skin'] = preprocess.fit_transform(data['skin'])\n",
    "data['pcos'] = preprocess.fit_transform(data['pcos'])\n",
    "data['risk'] = preprocess.fit_transform(data['risk'])\n",
    "data.head(5)"
   ]
  },
  {
   "cell_type": "code",
   "execution_count": 8,
   "metadata": {},
   "outputs": [],
   "source": [
    "feature_columns = ['gender','age','bmi','heredity','calorie','sleep','bp','smoke','alcohol','mental','physical','skin','pcos']\n",
    "predicted_class = ['risk']\n",
    "X = data[feature_columns].values\n",
    "y = data[predicted_class].values"
   ]
  },
  {
   "cell_type": "code",
   "execution_count": 9,
   "metadata": {},
   "outputs": [],
   "source": [
    "from sklearn.model_selection import train_test_split\n",
    "X_train, X_test, y_train, y_test = train_test_split(X, y, test_size = 0.30, random_state=10)"
   ]
  },
  {
   "cell_type": "code",
   "execution_count": 10,
   "metadata": {},
   "outputs": [
    {
     "name": "stdout",
     "output_type": "stream",
     "text": [
      "Random forest :  0.9696312364425163\n"
     ]
    }
   ],
   "source": [
    "from sklearn.ensemble import RandomForestClassifier\n",
    "from sklearn.metrics import accuracy_score\n",
    "# Create the model with 180 trees\n",
    "#model is object of classifier\n",
    "model = RandomForestClassifier(n_estimators=180, random_state=10)\n",
    "model.fit(X_train,y_train.ravel())\n",
    "random_pred=model.predict(X_test)\n",
    "print(\"Random forest : \",accuracy_score(y_test,random_pred, normalize = True))"
   ]
  },
  {
   "cell_type": "code",
   "execution_count": 14,
   "metadata": {},
   "outputs": [
    {
     "name": "stdout",
     "output_type": "stream",
     "text": [
      "[[252   1   2]\n",
      " [  0 234  13]\n",
      " [  8   4 408]]\n"
     ]
    }
   ],
   "source": [
    "from sklearn.metrics import confusion_matrix \n",
    "cm = confusion_matrix(y_test, random_pred)\n",
    "print(cm)\n"
   ]
  },
  {
   "cell_type": "code",
   "execution_count": 18,
   "metadata": {},
   "outputs": [
    {
     "data": {
      "image/png": "[encoded data removed]",
      "text/plain": [
       "<Figure size 698.4x360 with 1 Axes>"
      ]
     },
     "metadata": {},
     "output_type": "display_data"
    }
   ],
   "source": [
    "# import the seaborn module\n",
    "import seaborn as sns\n",
    "# import the matplotlib module\n",
    "import matplotlib.pyplot as plt\n",
    "# set the background colour of the plot to white\n",
    "sns.set(style=\"whitegrid\", color_codes=True)\n",
    "#setting the plot size for all plots\n",
    "sns.set(rc={'figure.figsize':(9.7,5)})\n",
    "# create a countplot\n",
    "sns.countplot('heredity',data=data,hue = 'risk')\n",
    "# Remove the top and down margin\n",
    "sns.despine(offset=10, trim=True)\n",
    "# display the plotplt.show()\n",
    "#risk:\n",
    "#0(high),1(low),2(medium)\n",
    "#heredity:\n",
    "#0(no),1(yes)\n",
    "#as seen in thye figure if heridity is yes then no of high risk(0-blue) patients is also more and igf heredity is no then no of low risk(1-brown is more)"
   ]
  },
  {
   "cell_type": "code",
   "execution_count": 20,
   "metadata": {},
   "outputs": [
    {
     "data": {
      "image/png": "[encoded data removed]",
      "text/plain": [
       "<Figure size 576x396 with 2 Axes>"
      ]
     },
     "metadata": {},
     "output_type": "display_data"
    }
   ],
   "source": [
    "from yellowbrick.classifier import ClassificationReport\n",
    "# Instantiate the classification model and visualizer\n",
    "rf = ClassificationReport(model, classes=['high','low','medium'])\n",
    "rf.fit(X_train, y_train) # Fit the training data to the visualizer\n",
    "rf.score(X_test, y_test) # Evaluate the model on the test data\n",
    "g = rf.poof() # Draw/show/poof the data"
   ]
  },
  {
   "cell_type": "code",
   "execution_count": 28,
   "metadata": {},
   "outputs": [
    {
     "data": {
      "text/plain": [
       "<matplotlib.axes._subplots.AxesSubplot at 0x22ced922348>"
      ]
     },
     "execution_count": 28,
     "metadata": {},
     "output_type": "execute_result"
    },
    {
     "data": {
      "image/png": "[encoded data removed]",
      "text/plain": [
       "<Figure size 504x288 with 2 Axes>"
      ]
     },
     "metadata": {
      "needs_background": "light"
     },
     "output_type": "display_data"
    }
   ],
   "source": [
    "import seaborn as sn\n",
    "import matplotlib.pyplot as plt\n",
    "%matplotlib inline\n",
    "import numpy as np\n",
    "df_cm = pd.DataFrame(cm, columns=np.unique(y_test), index = np.unique(y_test))\n",
    "df_cm.index.name = 'Actual'\n",
    "df_cm.columns.name = 'Predicted'\n",
    "plt.figure(figsize = (7,4))\n",
    "sn.set(font_scale=1.2)#for label size\n",
    "#predictions_test = le.inverse_transform(target)\n",
    "#print(predictions_test)\n",
    "x_axis_labels = ['high','low','medium'] # labels for x-axis\n",
    "y_axis_labels = ['high','low','medium'] # labels for y-axis\n",
    "sn.heatmap(df_cm, cmap=\"Blues\", annot=True,annot_kws={\"size\": 14},xticklabels=x_axis_labels, yticklabels=y_axis_labels)# font size"
   ]
  },
  {
   "cell_type": "code",
   "execution_count": 29,
   "metadata": {},
   "outputs": [],
   "source": [
    "try:\n",
    "    import dill as pickle\n",
    "except ImportError:\n",
    "    import pickle"
   ]
  },
  {
   "cell_type": "code",
   "execution_count": 32,
   "metadata": {},
   "outputs": [],
   "source": [
    "filename = 'finalized_model.p'\n",
    "pickl = {\n",
    "    'model': model\n",
    "}\n",
    "#pickle.dump( pickl, open( 'finalized_model' + \".p\", \"wb\" ) )\n",
    "pickle.dump(model, open(filename, 'wb'))"
   ]
  },
  {
   "cell_type": "code",
   "execution_count": 33,
   "metadata": {},
   "outputs": [
    {
     "name": "stdout",
     "output_type": "stream",
     "text": [
      "0.9696312364425163\n"
     ]
    }
   ],
   "source": [
    "loaded_model = pickle.load(open(filename, 'rb'))\n",
    "result = loaded_model.score(X_test, y_test)\n",
    "print(result)"
   ]
  },
  {
   "cell_type": "code",
   "execution_count": 35,
   "metadata": {},
   "outputs": [
    {
     "name": "stdout",
     "output_type": "stream",
     "text": [
      "Enter your gender, 'f' for female and 'm' for male :f\n",
      "Enter your age range 'A','B','C' :B\n",
      "Enter your bmi category of 'overweight','normal','underweight','obese' :overweight\n",
      "Enter 'y' if diabetes runs in your family else enter 'n' :n\n",
      "Enter 'y' if high calorie food intake else enter 'n' :y\n",
      "Enter 'regular' if sleep is regular else enter 'irregular' :regular\n",
      "Enter 'normal','low' or 'high' :regular\n",
      "Enter 'y' if you smoke else enter 'n' :y\n",
      "Enter 'y' if you drink else enter 'n' :y\n",
      "Enter 'y' if you have mental illness else enter 'n' :n\n",
      "Enter 'y' if you exercise daily else enter 'n' :n\n",
      "Enter 'y' if you have dark patches else enter 'n' :y\n",
      "Enter 'y' if you pcos else enter 'n' :y\n",
      "[[0, 2, 2, 0, 3, 2, 2, 1, 2, 0, 1, 4, 3]]\n"
     ]
    }
   ],
   "source": [
    "Xnew=[]\n",
    "l=[]\n",
    "gender=input(\"Enter your gender, 'f' for female and 'm' for male :\")\n",
    "if(gender=='f'):\n",
    "    l.append(0)\n",
    "else:\n",
    "    l.append(2)\n",
    "    \n",
    "age=input(\"Enter your age range 'A','B','C' :\")\n",
    "if(age=='B'):\n",
    "    l.append(2)\n",
    "elif(age=='C'):\n",
    "    l.append(4)\n",
    "else:\n",
    "    l.append(0)\n",
    "    \n",
    "bmi=input(\"Enter your bmi category of 'overweight','normal','underweight','obese' :\")\n",
    "if(bmi=='overweight'):\n",
    "    l.append(2)\n",
    "elif(bmi=='normal'):\n",
    "    l.append(0)\n",
    "elif(bmi=='obese'):\n",
    "    l.append(1)\n",
    "else:\n",
    "    l.append(3)\n",
    "    \n",
    "heredity=input(\"Enter 'y' if diabetes runs in your family else enter 'n' :\")\n",
    "if(heredity=='y'):\n",
    "    l.append(2)\n",
    "else:\n",
    "    l.append(0)\n",
    "\n",
    "calorie=input(\"Enter 'y' if high calorie food intake else enter 'n' :\")\n",
    "if(calorie=='y'):\n",
    "    l.append(3)\n",
    "else:\n",
    "    l.append(2)\n",
    "\n",
    "sleep=input(\"Enter 'regular' if sleep is regular else enter 'irregular' :\")\n",
    "if(sleep=='regular'):\n",
    "    l.append(2)\n",
    "else:\n",
    "    l.append(0)\n",
    "\n",
    "\n",
    "bp=input(\"Enter 'normal','low' or 'high' :\")\n",
    "if(bp=='normal'):\n",
    "    l.append(4)\n",
    "elif(bp=='high'):\n",
    "    l.append(0)\n",
    "else:\n",
    "    l.append(2)\n",
    "\n",
    "smoke=input(\"Enter 'y' if you smoke else enter 'n' :\")\n",
    "if(smoke=='y'):\n",
    "    l.append(1)\n",
    "else:\n",
    "    l.append(0)\n",
    "\n",
    "alcohol=input(\"Enter 'y' if you drink else enter 'n' :\")\n",
    "if(alcohol=='y'):\n",
    "    l.append(2)\n",
    "else:\n",
    "    l.append(0)\n",
    "\n",
    "mental=input(\"Enter 'y' if you have mental illness else enter 'n' :\")\n",
    "if(mental=='y'):\n",
    "    l.append(1)\n",
    "else:\n",
    "    l.append(0)\n",
    "\n",
    "physical=input(\"Enter 'y' if you exercise daily else enter 'n' :\")\n",
    "if(physical=='y'):\n",
    "    l.append(3)\n",
    "else:\n",
    "    l.append(1)\n",
    "\n",
    "skin=input(\"Enter 'y' if you have dark patches else enter 'n' :\")\n",
    "if(skin=='y'):\n",
    "    l.append(4)\n",
    "else:\n",
    "    l.append(2)\n",
    "pcos=input(\"Enter 'y' if you pcos else enter 'n' :\")\n",
    "if(pcos=='y'):\n",
    "    l.append(3)\n",
    "else:\n",
    "    l.append(1)\n",
    "\n",
    "\n",
    "    \n",
    "# calorie=raw_input(\" \")\n",
    "# if(calorie==)\n",
    "    \n",
    "#l = list(map(int, raw_input(\"\").split(\",\")))\n",
    "Xnew.append(l)\n",
    "print(Xnew)\n",
    "#Xnew = [[2,2,0,2,2,0,4,1,2,0,1,2,1]]"
   ]
  },
  {
   "cell_type": "code",
   "execution_count": 37,
   "metadata": {},
   "outputs": [
    {
     "name": "stdout",
     "output_type": "stream",
     "text": [
      "You are at MEDIUM risk\n",
      "You can change some of your lifestyle habbits to lower the risk.\n"
     ]
    }
   ],
   "source": [
    "ynew = model.predict(Xnew)\n",
    "if(ynew[0]==0):\n",
    "    print(\"You are at HIGH risk\")\n",
    "    print(\"See a doctor as soon as possible\")\n",
    "if(ynew[0]==1):\n",
    "    print(\"You are at LOW risk\")\n",
    "    print(\"You are doing well,continue with you healthy lifestyle\")\n",
    "if(ynew[0]==2):\n",
    "    print(\"You are at MEDIUM risk\")\n",
    "    print(\"You can change some of your lifestyle habbits to lower the risk.\")"
   ]
  },
  {
   "cell_type": "code",
   "execution_count": null,
   "metadata": {},
   "outputs": [],
   "source": []
  }
 ],
 "metadata": {
  "kernelspec": {
   "display_name": "venv",
   "language": "python",
   "name": "venv"
  },
  "language_info": {
   "codemirror_mode": {
    "name": "ipython",
    "version": 3
   },
   "file_extension": ".py",
   "mimetype": "text/x-python",
   "name": "python",
   "nbconvert_exporter": "python",
   "pygments_lexer": "ipython3",
   "version": "3.7.4"
  }
 },
 "nbformat": 4,
 "nbformat_minor": 4
}
