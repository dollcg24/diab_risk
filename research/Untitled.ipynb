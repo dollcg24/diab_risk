{
 "cells": [
  {
   "cell_type": "code",
   "execution_count": 74,
   "metadata": {},
   "outputs": [],
   "source": [
    "import json # will be needed for saving preprocessing details\n",
    "import numpy as np # for data manipulation\n",
    "import pandas as pd # for data manipulation\n",
    "from sklearn.model_selection import train_test_split # will be used for data split\n",
    "from sklearn.preprocessing import LabelEncoder # for preprocessing\n",
    "from sklearn.ensemble import RandomForestClassifier # for training the algorithm\n",
    "from sklearn.ensemble import ExtraTreesClassifier # for training the algorithm\n",
    "import joblib # for saving algorithm and preprocessing objects"
   ]
  },
  {
   "cell_type": "code",
   "execution_count": 75,
   "metadata": {
    "scrolled": true
   },
   "outputs": [
    {
     "data": {
      "text/html": [
       "<div>\n",
       "<style scoped>\n",
       "    .dataframe tbody tr th:only-of-type {\n",
       "        vertical-align: middle;\n",
       "    }\n",
       "\n",
       "    .dataframe tbody tr th {\n",
       "        vertical-align: top;\n",
       "    }\n",
       "\n",
       "    .dataframe thead th {\n",
       "        text-align: right;\n",
       "    }\n",
       "</style>\n",
       "<table border=\"1\" class=\"dataframe\">\n",
       "  <thead>\n",
       "    <tr style=\"text-align: right;\">\n",
       "      <th></th>\n",
       "      <th>gender</th>\n",
       "      <th>age</th>\n",
       "      <th>bmi</th>\n",
       "      <th>heredity</th>\n",
       "      <th>calorie</th>\n",
       "      <th>sleep</th>\n",
       "      <th>bp</th>\n",
       "      <th>smoke</th>\n",
       "      <th>alcohol</th>\n",
       "      <th>mental</th>\n",
       "      <th>physical</th>\n",
       "      <th>skin</th>\n",
       "      <th>pcos</th>\n",
       "      <th>risk</th>\n",
       "    </tr>\n",
       "  </thead>\n",
       "  <tbody>\n",
       "    <tr>\n",
       "      <td>0</td>\n",
       "      <td>f</td>\n",
       "      <td>B</td>\n",
       "      <td>overweight</td>\n",
       "      <td>y</td>\n",
       "      <td>y</td>\n",
       "      <td>regular</td>\n",
       "      <td>normal</td>\n",
       "      <td>y</td>\n",
       "      <td>y</td>\n",
       "      <td>y</td>\n",
       "      <td>n</td>\n",
       "      <td>y</td>\n",
       "      <td>y</td>\n",
       "      <td>h</td>\n",
       "    </tr>\n",
       "    <tr>\n",
       "      <td>1</td>\n",
       "      <td>m</td>\n",
       "      <td>B</td>\n",
       "      <td>normal</td>\n",
       "      <td>y</td>\n",
       "      <td>n</td>\n",
       "      <td>irregular</td>\n",
       "      <td>normal</td>\n",
       "      <td>y</td>\n",
       "      <td>y</td>\n",
       "      <td>n</td>\n",
       "      <td>n</td>\n",
       "      <td>n</td>\n",
       "      <td>n</td>\n",
       "      <td>m</td>\n",
       "    </tr>\n",
       "    <tr>\n",
       "      <td>2</td>\n",
       "      <td>f</td>\n",
       "      <td>B</td>\n",
       "      <td>normal</td>\n",
       "      <td>n</td>\n",
       "      <td>n</td>\n",
       "      <td>regular</td>\n",
       "      <td>high</td>\n",
       "      <td>n</td>\n",
       "      <td>n</td>\n",
       "      <td>n</td>\n",
       "      <td>y</td>\n",
       "      <td>n</td>\n",
       "      <td>n</td>\n",
       "      <td>l</td>\n",
       "    </tr>\n",
       "    <tr>\n",
       "      <td>3</td>\n",
       "      <td>f</td>\n",
       "      <td>C</td>\n",
       "      <td>normal</td>\n",
       "      <td>y</td>\n",
       "      <td>n</td>\n",
       "      <td>regular</td>\n",
       "      <td>normal</td>\n",
       "      <td>y</td>\n",
       "      <td>y</td>\n",
       "      <td>y</td>\n",
       "      <td>n</td>\n",
       "      <td>n</td>\n",
       "      <td>n</td>\n",
       "      <td>m</td>\n",
       "    </tr>\n",
       "    <tr>\n",
       "      <td>4</td>\n",
       "      <td>m</td>\n",
       "      <td>B</td>\n",
       "      <td>normal</td>\n",
       "      <td>n</td>\n",
       "      <td>n</td>\n",
       "      <td>regular</td>\n",
       "      <td>low</td>\n",
       "      <td>n</td>\n",
       "      <td>y</td>\n",
       "      <td>n</td>\n",
       "      <td>y</td>\n",
       "      <td>n</td>\n",
       "      <td>n</td>\n",
       "      <td>l</td>\n",
       "    </tr>\n",
       "  </tbody>\n",
       "</table>\n",
       "</div>"
      ],
      "text/plain": [
       "  gender age         bmi heredity calorie      sleep      bp smoke alcohol  \\\n",
       "0      f   B  overweight        y       y    regular  normal     y       y   \n",
       "1      m   B      normal        y       n  irregular  normal     y       y   \n",
       "2      f   B      normal        n       n    regular    high     n       n   \n",
       "3      f   C      normal        y       n    regular  normal     y       y   \n",
       "4      m   B      normal        n       n    regular     low     n       y   \n",
       "\n",
       "  mental physical skin pcos risk  \n",
       "0      y        n    y    y    h  \n",
       "1      n        n    n    n    m  \n",
       "2      n        y    n    n    l  \n",
       "3      y        n    n    n    m  \n",
       "4      n        y    n    n    l  "
      ]
     },
     "execution_count": 75,
     "metadata": {},
     "output_type": "execute_result"
    }
   ],
   "source": [
    "# load dataset\n",
    "df = pd.read_csv('https://raw.githubusercontent.com/dollcg24/diabetes_dataset/master/data.csv')\n",
    "x_cols = [c for c in df.columns if c != 'risk']\n",
    "# set input matrix and target column\n",
    "X = df[x_cols]\n",
    "y = df['risk']\n",
    "# show first rows of data\n",
    "df.head()"
   ]
  },
  {
   "cell_type": "code",
   "execution_count": 76,
   "metadata": {},
   "outputs": [],
   "source": [
    "# fill missing values\n",
    "#train_mode = dict(X_train.mode().iloc[0])\n",
    "#X_train = X_train.fillna(train_mode)\n",
    "#print(train_mode)"
   ]
  },
  {
   "cell_type": "code",
   "execution_count": 83,
   "metadata": {},
   "outputs": [],
   "source": [
    "from sklearn import preprocessing\n",
    "#diab = pd.read_csv(\"diabrisk.csv\")\n",
    "preprocess = preprocessing.LabelEncoder()\n",
    "df['gender'] = preprocess.fit_transform(df['gender'])\n",
    "df['age'] = preprocess.fit_transform(df['age'])\n",
    "df['bmi'] = preprocess.fit_transform(df['bmi'])\n",
    "df['heredity']= preprocess.fit_transform(df['heredity'])\n",
    "df['calorie'] = preprocess.fit_transform(df['calorie'])\n",
    "df['sleep'] = preprocess.fit_transform(df['sleep'])\n",
    "df['bp'] = preprocess.fit_transform(df['bp'])\n",
    "df['smoke'] = preprocess.fit_transform(df['smoke'])\n",
    "df['alcohol'] = preprocess.fit_transform(df['alcohol'])\n",
    "df['mental'] = preprocess.fit_transform(df['mental'])\n",
    "df['physical'] = preprocess.fit_transform(df['physical'])\n",
    "df['skin'] = preprocess.fit_transform(df['skin'])\n",
    "df['pcos'] = preprocess.fit_transform(df['pcos'])\n",
    "df['risk'] = preprocess.fit_transform(df['risk'])"
   ]
  },
  {
   "cell_type": "code",
   "execution_count": 84,
   "metadata": {},
   "outputs": [],
   "source": [
    "x_cols = [c for c in df.columns if c != 'risk']\n",
    "# set input matrix and target column\n",
    "X = df[x_cols]\n",
    "y = df['risk']"
   ]
  },
  {
   "cell_type": "code",
   "execution_count": 85,
   "metadata": {},
   "outputs": [],
   "source": [
    "X_train, X_test, y_train, y_test = train_test_split(X, y, test_size = 0.3, random_state=10)"
   ]
  },
  {
   "cell_type": "code",
   "execution_count": 86,
   "metadata": {
    "scrolled": true
   },
   "outputs": [],
   "source": [
    "# convert categoricals\n",
    "#encoders = {}\n",
    "#encoders1 = {}\n",
    "#for column in ['gender', 'age', 'bmi',\n",
    "#                'heredity', 'calorie', 'sleep',\n",
    "#                'bp','smoke','alcohol','mental','physical','skin','pcos']:\n",
    "#    categorical_convert = LabelEncoder()\n",
    "#    X_train[column] = categorical_convert.fit_transform(X_train[column])\n",
    "#    encoders[column] = categorical_convert\n",
    "#print(encoders)\n",
    "#{'gender': LabelEncoder(), 'age': LabelEncoder(), 'bmi': LabelEncoder(), 'heredity': LabelEncoder(), 'calorie': LabelEncoder(), 'sleep': LabelEncoder(), 'bp': LabelEncoder(), 'smoke': LabelEncoder(), 'alcohol': LabelEncoder(), 'mental': LabelEncoder(), 'physical': LabelEncoder(), 'skin': LabelEncoder(), 'pcos': LabelEncoder()}"
   ]
  },
  {
   "cell_type": "code",
   "execution_count": 87,
   "metadata": {},
   "outputs": [
    {
     "name": "stdout",
     "output_type": "stream",
     "text": [
      "Random forest :  0.972885032537961\n"
     ]
    }
   ],
   "source": [
    "from sklearn.metrics import accuracy_score\n",
    "rf = RandomForestClassifier(n_estimators = 100)\n",
    "rf = rf.fit(X_train, y_train)\n",
    "random_pred=rf.predict(X_test)\n",
    "print(\"Random forest : \",accuracy_score(y_test,random_pred, normalize = True))"
   ]
  },
  {
   "cell_type": "code",
   "execution_count": null,
   "metadata": {},
   "outputs": [],
   "source": [
    "# save preprocessing objects and RF algorithm\n",
    "#joblib.dump(train_mode, \"./train_mode.joblib\", compress=True)\n",
    "#joblib.dump(encoders, \"./encoders.joblib\", compress=True)\n",
    "joblib.dump(rf, \"./random_forest.joblib\", compress=True)\n",
    "#joblib.dump(et, \"./extra_trees.joblib\", compress=True)"
   ]
  }
 ],
 "metadata": {
  "kernelspec": {
   "display_name": "venv",
   "language": "python",
   "name": "venv"
  },
  "language_info": {
   "codemirror_mode": {
    "name": "ipython",
    "version": 3
   },
   "file_extension": ".py",
   "mimetype": "text/x-python",
   "name": "python",
   "nbconvert_exporter": "python",
   "pygments_lexer": "ipython3",
   "version": "3.7.4"
  }
 },
 "nbformat": 4,
 "nbformat_minor": 4
}
